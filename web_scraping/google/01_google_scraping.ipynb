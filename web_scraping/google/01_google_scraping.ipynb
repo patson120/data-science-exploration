{
 "cells": [
  {
   "cell_type": "code",
   "execution_count": 1,
   "metadata": {},
   "outputs": [],
   "source": [
    "# Importation des modules \n",
    "\n",
    "from selenium import webdriver\n",
    "from selenium.webdriver.common.keys import Keys\n",
    "from selenium.webdriver.common.by import By\n",
    "import time\n"
   ]
  },
  {
   "cell_type": "code",
   "execution_count": 3,
   "metadata": {},
   "outputs": [
    {
     "name": "stderr",
     "output_type": "stream",
     "text": [
      "The chromedriver version (114.0.5735.90) detected in PATH at c:\\Users\\Patri\\OneDrive\\Bureau\\DS\\web_scraping\\google\\chromedriver.exe might not be compatible with the detected chrome version (115.0.5790.173); currently, chromedriver 115.0.5790.170 is recommended for chrome 115.*, so it is advised to delete the driver in PATH and retry\n"
     ]
    }
   ],
   "source": [
    "#  Créer une variable pour déclencher le driver\n",
    "# driver = webdriver.Edge(keep_alive=True)\n",
    "driver = webdriver.Chrome(keep_alive=True)\n",
    "driver.get('https://www.kubii.fr/')\n",
    "# driver.get('http://192.168.100.186:5500/') # Exemple sur un application en local"
   ]
  },
  {
   "cell_type": "code",
   "execution_count": null,
   "metadata": {},
   "outputs": [],
   "source": [
    "# Récupération de la barre de recherche\n",
    "search_bar = driver.find_element(By.CLASS_NAME, \"ui-autocomplete-input\")"
   ]
  },
  {
   "cell_type": "code",
   "execution_count": null,
   "metadata": {},
   "outputs": [],
   "source": [
    "# Remplire le champ de recherche\n",
    "search_bar.send_keys(\"Raspbarry pi\")"
   ]
  },
  {
   "cell_type": "code",
   "execution_count": null,
   "metadata": {},
   "outputs": [],
   "source": [
    "# Récupérer le bouton  pour lancer la recherche\n",
    "search_btn = driver.find_element(By.ID, \"search_widget\").find_element(By.TAG_NAME, \"button\")"
   ]
  },
  {
   "cell_type": "code",
   "execution_count": null,
   "metadata": {},
   "outputs": [],
   "source": [
    "# Actionner le champ bouton de recherche \n",
    "search_btn.click()"
   ]
  },
  {
   "cell_type": "code",
   "execution_count": null,
   "metadata": {},
   "outputs": [],
   "source": [
    "# Récupérer tout les noms des produits \n",
    "all_titles = driver.find_elements(By.CLASS_NAME, \"product-title\")"
   ]
  },
  {
   "cell_type": "code",
   "execution_count": null,
   "metadata": {},
   "outputs": [],
   "source": [
    "# Parcourir la liste des produits\n",
    "for title in all_titles:\n",
    "    print(title.text, end=\"\\n\\n\")"
   ]
  },
  {
   "cell_type": "code",
   "execution_count": null,
   "metadata": {},
   "outputs": [],
   "source": [
    "# Fermer le driver \n",
    "# driver.close()\n",
    "print(\"Fin du scraping...\")"
   ]
  }
 ],
 "metadata": {
  "kernelspec": {
   "display_name": "Python 3",
   "language": "python",
   "name": "python3"
  },
  "language_info": {
   "codemirror_mode": {
    "name": "ipython",
    "version": 3
   },
   "file_extension": ".py",
   "mimetype": "text/x-python",
   "name": "python",
   "nbconvert_exporter": "python",
   "pygments_lexer": "ipython3",
   "version": "3.11.2"
  },
  "orig_nbformat": 4
 },
 "nbformat": 4,
 "nbformat_minor": 2
}
